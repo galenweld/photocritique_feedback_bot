{
 "cells": [
  {
   "cell_type": "code",
   "execution_count": 1,
   "metadata": {},
   "outputs": [],
   "source": [
    "# STANDARD LIBRARY IMPORTS\n",
    "import re\n",
    "import csv\n",
    "import os\n",
    "import datetime\n",
    "\n",
    "# PROJECT IMPORTS\n",
    "from setup import reddit\n",
    "from settings import *\n",
    "\n",
    "# THIRD PARTY IMPORTS\n",
    "import praw"
   ]
  },
  {
   "cell_type": "code",
   "execution_count": 2,
   "metadata": {},
   "outputs": [],
   "source": [
    "subreddit = reddit.subreddit(TARGET_SUBREDDIT)"
   ]
  },
  {
   "cell_type": "markdown",
   "metadata": {},
   "source": [
    "# flair experiments"
   ]
  },
  {
   "cell_type": "code",
   "execution_count": 3,
   "metadata": {},
   "outputs": [],
   "source": [
    "awarding_comment = reddit.comment(id='hx3zdnz')\n",
    "awarded_comment  = reddit.comment(id=awarding_comment.parent_id[3:])\n",
    "submission       = reddit.submission(id=awarding_comment.link_id[3:])"
   ]
  },
  {
   "cell_type": "code",
   "execution_count": 4,
   "metadata": {},
   "outputs": [],
   "source": [
    "submission.flair.select(FLAIR_TEMPLATE_ID)"
   ]
  },
  {
   "cell_type": "code",
   "execution_count": 5,
   "metadata": {},
   "outputs": [
    {
     "data": {
      "text/plain": [
       "[{'flair_css_class': '',\n",
       "  'flair_template_id': '7eeec638-8f07-11ec-8294-2a47d40d3100',\n",
       "  'flair_text_editable': True,\n",
       "  'flair_position': 'right',\n",
       "  'flair_text': 'hp from op'}]"
      ]
     },
     "execution_count": 5,
     "metadata": {},
     "output_type": "execute_result"
    }
   ],
   "source": [
    "submission.flair.choices()"
   ]
  },
  {
   "cell_type": "code",
   "execution_count": 6,
   "metadata": {},
   "outputs": [
    {
     "name": "stdout",
     "output_type": "stream",
     "text": [
      "{'flair_css_class': None, 'user': Redditor(name='cyclistNerd'), 'flair_text': None}\n"
     ]
    }
   ],
   "source": [
    "for f in subreddit.flair(redditor=reddit.redditor('cyclistNerd')): print(f)"
   ]
  },
  {
   "cell_type": "code",
   "execution_count": 7,
   "metadata": {},
   "outputs": [
    {
     "name": "stdout",
     "output_type": "stream",
     "text": [
      "{'flair_css_class': 'website', 'user': Redditor(name='cyclistNerd'), 'flair_text': 'galenweld.com'}\n"
     ]
    }
   ],
   "source": [
    "for f in reddit.subreddit('photocritique').flair(redditor=reddit.redditor('cyclistNerd')): print(f)"
   ]
  },
  {
   "cell_type": "code",
   "execution_count": 8,
   "metadata": {},
   "outputs": [
    {
     "data": {
      "text/plain": [
       "'t1'"
      ]
     },
     "execution_count": 8,
     "metadata": {},
     "output_type": "execute_result"
    }
   ],
   "source": [
    "reddit.comment(id='hx3zdnz').parent_id[:2]"
   ]
  },
  {
   "cell_type": "code",
   "execution_count": 9,
   "metadata": {},
   "outputs": [
    {
     "data": {
      "text/plain": [
       "'[12:00:42 02/16/22]'"
      ]
     },
     "execution_count": 9,
     "metadata": {},
     "output_type": "execute_result"
    }
   ],
   "source": [
    "datetime.datetime.now().strftime('[%X %x]')"
   ]
  },
  {
   "cell_type": "markdown",
   "metadata": {},
   "source": [
    "# pm testing"
   ]
  },
  {
   "cell_type": "code",
   "execution_count": 179,
   "metadata": {},
   "outputs": [],
   "source": [
    "SEGMENTOR = re.compile(r'(\\n{2,}|\\. |\\? )')"
   ]
  },
  {
   "cell_type": "code",
   "execution_count": 233,
   "metadata": {},
   "outputs": [],
   "source": [
    "test_string = '\\n\\nThis is a reddit comment. It has another sentence.\\n\\nIt also has a newline\\n\\nAnd a last\\nsentence.'"
   ]
  },
  {
   "cell_type": "code",
   "execution_count": 234,
   "metadata": {},
   "outputs": [
    {
     "name": "stdout",
     "output_type": "stream",
     "text": [
      "\n",
      "\n",
      "This is a reddit comment. It has another sentence.\n",
      "\n",
      "It also has a newline\n",
      "\n",
      "And a last\n",
      "sentence.\n"
     ]
    }
   ],
   "source": [
    "print(test_string)"
   ]
  },
  {
   "cell_type": "code",
   "execution_count": 236,
   "metadata": {},
   "outputs": [],
   "source": [
    "sentences = SEGMENTOR.split(test_string)\n",
    "\n",
    "# the match group gets us the divider, so to keep linebreaks we loop over every even-indexed segment and the one after\n",
    "segments = []\n",
    "for i in range(0, len(sentences), 2):\n",
    "    sentence  = sentences[i]\n",
    "    separator = sentences[i+1] if i+1<len(sentences) else None\n",
    "    \n",
    "    # replace single newlines with spaces, then strip whitespace\n",
    "    sentence = re.sub('\\n', ' ', sentence).strip()\n",
    "    \n",
    "    # skip empty sentences\n",
    "    if len(sentence)==0: continue\n",
    "        \n",
    "    # check the separator, if it's two or more newlines, keep it\n",
    "    if (separator is not None) and (re.match(r'\\n{2,}', separator) is not None):\n",
    "        sentence += '\\n\\n'\n",
    "        \n",
    "    segments.append(sentence)\n",
    "    \n",
    "# finally, add quotes and numbers\n",
    "segments = [f'> ({i+1}) {s}' for i, s in enumerate( segments )] # insert numbers"
   ]
  },
  {
   "cell_type": "code",
   "execution_count": 237,
   "metadata": {},
   "outputs": [
    {
     "name": "stdout",
     "output_type": "stream",
     "text": [
      "Thanks for indicating that [this comment](/r/phcritiquetest/comments/sti3ob/this_is_a_photo_i_took_of_a_pretty_sunrise_i/hx3z8a5/) by /u/CommunityGovProject was helpful.\n",
      "Please let us know which part of the comment was most helpful.\n",
      "Reply to this PM  with the number of the sentence(s) you found most useful.\n",
      "You may reply with multiple numbers, or a range of numbers, e.g. 2-4,6.\n",
      "\n",
      "\n",
      "> (1) This is a reddit comment\n",
      "> (2) It has another sentence.\n",
      "\n",
      "\n",
      "> (3) It also has a newline\n",
      "\n",
      "\n",
      "> (4) And a last sentence.\n"
     ]
    }
   ],
   "source": [
    "reply = []\n",
    "    \n",
    "reply.append(f'Thanks for indicating that [this comment]({awarded_comment.permalink}) by /u/{awarded_comment.author.name} was helpful.')\n",
    "reply.append('Please let us know which part of the comment was most helpful.')\n",
    "reply.append('Reply to this PM  with the number of the sentence(s) you found most useful.')\n",
    "reply.append('You may reply with multiple numbers, or a range of numbers, e.g. 2-4,6.')\n",
    "reply.append('\\n')\n",
    "reply += segments\n",
    "\n",
    "reply = '\\n'.join(reply)\n",
    "\n",
    "print(reply)"
   ]
  },
  {
   "cell_type": "code",
   "execution_count": null,
   "metadata": {},
   "outputs": [],
   "source": []
  }
 ],
 "metadata": {
  "kernelspec": {
   "display_name": "Python [conda env:pcbot]",
   "language": "python",
   "name": "conda-env-pcbot-py"
  },
  "language_info": {
   "codemirror_mode": {
    "name": "ipython",
    "version": 3
   },
   "file_extension": ".py",
   "mimetype": "text/x-python",
   "name": "python",
   "nbconvert_exporter": "python",
   "pygments_lexer": "ipython3",
   "version": "3.9.7"
  }
 },
 "nbformat": 4,
 "nbformat_minor": 4
}
