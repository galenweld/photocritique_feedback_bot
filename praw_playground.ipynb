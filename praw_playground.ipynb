{
 "cells": [
  {
   "cell_type": "code",
   "execution_count": 1,
   "metadata": {},
   "outputs": [],
   "source": [
    "# STANDARD LIBRARY IMPORTS\n",
    "import re\n",
    "import csv\n",
    "import os\n",
    "import datetime\n",
    "\n",
    "# PROJECT IMPORTS\n",
    "from settings import *\n",
    "\n",
    "# THIRD PARTY IMPORTS\n",
    "import praw"
   ]
  },
  {
   "cell_type": "code",
   "execution_count": 2,
   "metadata": {},
   "outputs": [],
   "source": [
    "reddit = praw.Reddit('pcbot') # using auth info from praw.ini"
   ]
  },
  {
   "cell_type": "code",
   "execution_count": 3,
   "metadata": {},
   "outputs": [],
   "source": [
    "subreddit = reddit.subreddit(TARGET_SUBREDDIT)"
   ]
  },
  {
   "cell_type": "code",
   "execution_count": 41,
   "metadata": {},
   "outputs": [],
   "source": [
    "awarding_comment = reddit.comment(id='hx3zdnz')\n",
    "awarded_comment  = reddit.comment(id=awarding_comment.parent_id[3:])\n",
    "submission       = reddit.submission(id=awarding_comment.link_id[3:])"
   ]
  },
  {
   "cell_type": "code",
   "execution_count": 44,
   "metadata": {},
   "outputs": [],
   "source": [
    "submission.flair.select(FLAIR_TEMPLATE_ID)"
   ]
  },
  {
   "cell_type": "code",
   "execution_count": 42,
   "metadata": {},
   "outputs": [
    {
     "data": {
      "text/plain": [
       "[{'flair_css_class': '',\n",
       "  'flair_template_id': '7eeec638-8f07-11ec-8294-2a47d40d3100',\n",
       "  'flair_text_editable': True,\n",
       "  'flair_position': 'right',\n",
       "  'flair_text': 'hp from op'}]"
      ]
     },
     "execution_count": 42,
     "metadata": {},
     "output_type": "execute_result"
    }
   ],
   "source": [
    "submission.flair.choices()"
   ]
  },
  {
   "cell_type": "code",
   "execution_count": 32,
   "metadata": {},
   "outputs": [
    {
     "name": "stdout",
     "output_type": "stream",
     "text": [
      "{'flair_css_class': None, 'user': Redditor(name='cyclistNerd'), 'flair_text': None}\n"
     ]
    }
   ],
   "source": [
    "for f in subreddit.flair(redditor=reddit.redditor('cyclistNerd')): print(f)"
   ]
  },
  {
   "cell_type": "code",
   "execution_count": 33,
   "metadata": {},
   "outputs": [
    {
     "name": "stdout",
     "output_type": "stream",
     "text": [
      "{'flair_css_class': 'website', 'user': Redditor(name='cyclistNerd'), 'flair_text': 'galenweld.com'}\n"
     ]
    }
   ],
   "source": [
    "for f in reddit.subreddit('photocritique').flair(redditor=reddit.redditor('cyclistNerd')): print(f)"
   ]
  },
  {
   "cell_type": "code",
   "execution_count": 23,
   "metadata": {},
   "outputs": [
    {
     "data": {
      "text/plain": [
       "'t1'"
      ]
     },
     "execution_count": 23,
     "metadata": {},
     "output_type": "execute_result"
    }
   ],
   "source": [
    "reddit.comment(id='hx3zdnz').parent_id[:2]"
   ]
  },
  {
   "cell_type": "code",
   "execution_count": 46,
   "metadata": {},
   "outputs": [
    {
     "data": {
      "text/plain": [
       "'[01:30:18 02/16/22]'"
      ]
     },
     "execution_count": 46,
     "metadata": {},
     "output_type": "execute_result"
    }
   ],
   "source": [
    "datetime.datetime.now().strftime('[%X %x]')"
   ]
  },
  {
   "cell_type": "code",
   "execution_count": null,
   "metadata": {},
   "outputs": [],
   "source": []
  }
 ],
 "metadata": {
  "kernelspec": {
   "display_name": "Python [conda env:pcbot]",
   "language": "python",
   "name": "conda-env-pcbot-py"
  },
  "language_info": {
   "codemirror_mode": {
    "name": "ipython",
    "version": 3
   },
   "file_extension": ".py",
   "mimetype": "text/x-python",
   "name": "python",
   "nbconvert_exporter": "python",
   "pygments_lexer": "ipython3",
   "version": "3.9.7"
  }
 },
 "nbformat": 4,
 "nbformat_minor": 4
}
