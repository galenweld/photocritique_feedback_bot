{
 "cells": [
  {
   "cell_type": "code",
   "execution_count": 1,
   "metadata": {},
   "outputs": [
    {
     "name": "stdout",
     "output_type": "stream",
     "text": [
      "Loaded 2 users who have opted out.\n"
     ]
    }
   ],
   "source": [
    "# STANDARD LIBRARY IMPORTS\n",
    "import re\n",
    "import csv\n",
    "import os\n",
    "import datetime\n",
    "\n",
    "# PROJECT IMPORTS\n",
    "from setup import reddit\n",
    "from settings import *\n",
    "\n",
    "# THIRD PARTY IMPORTS\n",
    "import praw"
   ]
  },
  {
   "cell_type": "code",
   "execution_count": 2,
   "metadata": {},
   "outputs": [],
   "source": [
    "subreddit = reddit.subreddit(TARGET_SUBREDDIT)"
   ]
  },
  {
   "cell_type": "markdown",
   "metadata": {},
   "source": [
    "# flair experiments"
   ]
  },
  {
   "cell_type": "code",
   "execution_count": 3,
   "metadata": {},
   "outputs": [],
   "source": [
    "awarding_comment = reddit.comment(id='hx3zdnz')\n",
    "awarded_comment  = reddit.comment(id=awarding_comment.parent_id[3:])\n",
    "submission       = reddit.submission(id=awarding_comment.link_id[3:])"
   ]
  },
  {
   "cell_type": "code",
   "execution_count": 4,
   "metadata": {},
   "outputs": [],
   "source": [
    "submission.flair.select(FLAIR_TEMPLATE_ID)"
   ]
  },
  {
   "cell_type": "code",
   "execution_count": 5,
   "metadata": {},
   "outputs": [
    {
     "data": {
      "text/plain": [
       "[{'flair_css_class': '',\n",
       "  'flair_template_id': '7eeec638-8f07-11ec-8294-2a47d40d3100',\n",
       "  'flair_text_editable': True,\n",
       "  'flair_position': 'right',\n",
       "  'flair_text': 'HPs from op'}]"
      ]
     },
     "execution_count": 5,
     "metadata": {},
     "output_type": "execute_result"
    }
   ],
   "source": [
    "submission.flair.choices()"
   ]
  },
  {
   "cell_type": "code",
   "execution_count": 6,
   "metadata": {},
   "outputs": [
    {
     "name": "stdout",
     "output_type": "stream",
     "text": [
      "{'flair_css_class': None, 'user': Redditor(name='cyclistNerd'), 'flair_text': None}\n"
     ]
    }
   ],
   "source": [
    "for f in subreddit.flair(redditor=reddit.redditor('cyclistNerd')): print(f)"
   ]
  },
  {
   "cell_type": "code",
   "execution_count": 7,
   "metadata": {},
   "outputs": [
    {
     "name": "stdout",
     "output_type": "stream",
     "text": [
      "{'flair_css_class': 'website', 'user': Redditor(name='cyclistNerd'), 'flair_text': 'galenweld.com'}\n"
     ]
    }
   ],
   "source": [
    "for f in reddit.subreddit('photocritique').flair(redditor=reddit.redditor('cyclistNerd')): print(f)"
   ]
  },
  {
   "cell_type": "code",
   "execution_count": 8,
   "metadata": {},
   "outputs": [
    {
     "data": {
      "text/plain": [
       "'t1'"
      ]
     },
     "execution_count": 8,
     "metadata": {},
     "output_type": "execute_result"
    }
   ],
   "source": [
    "reddit.comment(id='hx3zdnz').parent_id[:2]"
   ]
  },
  {
   "cell_type": "code",
   "execution_count": 9,
   "metadata": {},
   "outputs": [
    {
     "data": {
      "text/plain": [
       "'[18:47:45 02/25/22]'"
      ]
     },
     "execution_count": 9,
     "metadata": {},
     "output_type": "execute_result"
    }
   ],
   "source": [
    "datetime.datetime.now().strftime('[%X %x]')"
   ]
  },
  {
   "cell_type": "code",
   "execution_count": 10,
   "metadata": {},
   "outputs": [
    {
     "data": {
      "text/plain": [
       "'hx3z8a5'"
      ]
     },
     "execution_count": 10,
     "metadata": {},
     "output_type": "execute_result"
    }
   ],
   "source": [
    "awarded_comment.id"
   ]
  },
  {
   "cell_type": "markdown",
   "metadata": {},
   "source": [
    "# pm testing"
   ]
  },
  {
   "cell_type": "code",
   "execution_count": 11,
   "metadata": {},
   "outputs": [],
   "source": [
    "SEGMENTOR = re.compile(r'(\\n{2,}|\\. |\\? )')"
   ]
  },
  {
   "cell_type": "code",
   "execution_count": 12,
   "metadata": {},
   "outputs": [],
   "source": [
    "test_string = '\\n\\nThis is a reddit comment. It has another sentence.\\n\\nIt also has a newline\\n\\nAnd a last\\nsentence.'"
   ]
  },
  {
   "cell_type": "code",
   "execution_count": 13,
   "metadata": {},
   "outputs": [
    {
     "name": "stdout",
     "output_type": "stream",
     "text": [
      "\n",
      "\n",
      "This is a reddit comment. It has another sentence.\n",
      "\n",
      "It also has a newline\n",
      "\n",
      "And a last\n",
      "sentence.\n"
     ]
    }
   ],
   "source": [
    "print(test_string)"
   ]
  },
  {
   "cell_type": "code",
   "execution_count": 14,
   "metadata": {},
   "outputs": [],
   "source": [
    "sentences = SEGMENTOR.split(test_string)\n",
    "\n",
    "# the match group gets us the divider, so to keep linebreaks we loop over every even-indexed segment and the one after\n",
    "segments = []\n",
    "for i in range(0, len(sentences), 2):\n",
    "    sentence  = sentences[i]\n",
    "    separator = sentences[i+1] if i+1<len(sentences) else None\n",
    "    \n",
    "    # replace single newlines with spaces, then strip whitespace\n",
    "    sentence = re.sub('\\n', ' ', sentence).strip()\n",
    "    \n",
    "    # skip empty sentences\n",
    "    if len(sentence)==0: continue\n",
    "        \n",
    "    # check the separator, if it's two or more newlines, keep it\n",
    "    if (separator is not None) and (re.match(r'\\n{2,}', separator) is not None):\n",
    "        sentence += '\\n\\n'\n",
    "        \n",
    "    segments.append(sentence)\n",
    "    \n",
    "# finally, add quotes and numbers\n",
    "segments = [f'> ({i+1}) {s}' for i, s in enumerate( segments )] # insert numbers"
   ]
  },
  {
   "cell_type": "code",
   "execution_count": 15,
   "metadata": {},
   "outputs": [
    {
     "name": "stdout",
     "output_type": "stream",
     "text": [
      "Thanks for indicating that [this comment](/r/phcritiquetest/comments/sti3ob/this_is_a_photo_i_took_of_a_pretty_sunrise_i/hx3z8a5/) by /u/CommunityGovProject was helpful.\n",
      "Please let us know which part of the comment was most helpful.\n",
      "Reply to this PM  with the number of the sentence(s) you found most useful.\n",
      "You may reply with multiple numbers, or a range of numbers, e.g. 2-4,6.\n",
      "\n",
      "\n",
      "> (1) This is a reddit comment\n",
      "> (2) It has another sentence.\n",
      "\n",
      "\n",
      "> (3) It also has a newline\n",
      "\n",
      "\n",
      "> (4) And a last sentence.\n"
     ]
    }
   ],
   "source": [
    "reply = []\n",
    "    \n",
    "reply.append(f'Thanks for indicating that [this comment]({awarded_comment.permalink}) by /u/{awarded_comment.author.name} was helpful.')\n",
    "reply.append('Please let us know which part of the comment was most helpful.')\n",
    "reply.append('Reply to this PM  with the number of the sentence(s) you found most useful.')\n",
    "reply.append('You may reply with multiple numbers, or a range of numbers, e.g. 2-4,6.')\n",
    "reply.append('\\n')\n",
    "reply += segments\n",
    "\n",
    "reply = '\\n'.join(reply)\n",
    "\n",
    "print(reply)"
   ]
  },
  {
   "cell_type": "code",
   "execution_count": 16,
   "metadata": {},
   "outputs": [],
   "source": [
    "# checking PM inbox"
   ]
  },
  {
   "cell_type": "code",
   "execution_count": 17,
   "metadata": {},
   "outputs": [
    {
     "data": {
      "text/plain": [
       "<praw.models.inbox.Inbox at 0x7f8188624190>"
      ]
     },
     "execution_count": 17,
     "metadata": {},
     "output_type": "execute_result"
    }
   ],
   "source": [
    "reddit.inbox"
   ]
  },
  {
   "cell_type": "code",
   "execution_count": 18,
   "metadata": {},
   "outputs": [
    {
     "name": "stdout",
     "output_type": "stream",
     "text": [
      "Processing unread PMs.\n",
      "Finished. No unread PMs.\n"
     ]
    }
   ],
   "source": [
    "num_processed = 0\n",
    "\n",
    "print('Processing unread PMs.')\n",
    "for message in reddit.inbox.unread(limit=None):\n",
    "    if not isinstance(message, praw.models.Message): continue\n",
    "        \n",
    "    print(message)    \n",
    "    # message.mark_read()\n",
    "    num_processed += 1\n",
    "    \n",
    "if num_processed == 0:\n",
    "    print('Finished. No unread PMs.')\n",
    "else:\n",
    "    print(f'Finished. Processed {num_processed} PMs.')"
   ]
  },
  {
   "cell_type": "code",
   "execution_count": 19,
   "metadata": {},
   "outputs": [
    {
     "data": {
      "text/plain": [
       "Redditor(name='uw_cse_moderation')"
      ]
     },
     "execution_count": 19,
     "metadata": {},
     "output_type": "execute_result"
    }
   ],
   "source": [
    "message.author"
   ]
  },
  {
   "cell_type": "code",
   "execution_count": 20,
   "metadata": {},
   "outputs": [
    {
     "data": {
      "text/plain": [
       "'hygqut6'"
      ]
     },
     "execution_count": 20,
     "metadata": {},
     "output_type": "execute_result"
    }
   ],
   "source": [
    "message.id"
   ]
  },
  {
   "cell_type": "code",
   "execution_count": 21,
   "metadata": {},
   "outputs": [
    {
     "data": {
      "text/plain": [
       "\"Really great feedback, I'll try booping the snoot. #helpful\""
      ]
     },
     "execution_count": 21,
     "metadata": {},
     "output_type": "execute_result"
    }
   ],
   "source": [
    "message.body"
   ]
  },
  {
   "cell_type": "code",
   "execution_count": 22,
   "metadata": {},
   "outputs": [
    {
     "data": {
      "text/plain": [
       "1645842416.0"
      ]
     },
     "execution_count": 22,
     "metadata": {},
     "output_type": "execute_result"
    }
   ],
   "source": [
    "message.created"
   ]
  },
  {
   "cell_type": "code",
   "execution_count": 23,
   "metadata": {},
   "outputs": [
    {
     "data": {
      "text/plain": [
       "{'_replies': [],\n",
       " '_submission': None,\n",
       " '_reddit': <praw.reddit.Reddit at 0x7f819029a8b0>,\n",
       " 'first_message': None,\n",
       " 'first_message_name': None,\n",
       " 'subreddit': Subreddit(display_name='phcritiquetest'),\n",
       " 'likes': None,\n",
       " 'author_fullname': 't2_4nzdo3pe',\n",
       " 'id': 'hygqut6',\n",
       " 'subject': 'comment reply',\n",
       " 'associated_awarding_id': None,\n",
       " 'score': 1,\n",
       " 'author': Redditor(name='uw_cse_moderation'),\n",
       " 'num_comments': 9,\n",
       " 'parent_id': 't1_hygqs5i',\n",
       " 'subreddit_name_prefixed': 'r/phcritiquetest',\n",
       " 'new': True,\n",
       " 'type': 'comment_reply',\n",
       " 'body': \"Really great feedback, I'll try booping the snoot. #helpful\",\n",
       " 'link_title': 'Mount Rainier from Mount Pleasant',\n",
       " 'dest': 'cyclistNerd',\n",
       " 'was_comment': True,\n",
       " 'body_html': '<!-- SC_OFF --><div class=\"md\"><p>Really great feedback, I&#39;ll try booping the snoot. #helpful</p>\\n</div><!-- SC_ON -->',\n",
       " 'name': 't1_hygqut6',\n",
       " 'created': 1645842416.0,\n",
       " 'created_utc': 1645842416.0,\n",
       " 'context': '/r/phcritiquetest/comments/t1lhzt/mount_rainier_from_mount_pleasant/hygqut6/?context=3',\n",
       " 'distinguished': None,\n",
       " '_fetched': True}"
      ]
     },
     "execution_count": 23,
     "metadata": {},
     "output_type": "execute_result"
    }
   ],
   "source": [
    "vars(message)"
   ]
  },
  {
   "cell_type": "code",
   "execution_count": 24,
   "metadata": {},
   "outputs": [
    {
     "data": {
      "text/plain": [
       "<re.Match object; span=(16, 22), match='optout'>"
      ]
     },
     "execution_count": 24,
     "metadata": {},
     "output_type": "execute_result"
    }
   ],
   "source": [
    "OPTOUT_PATTERN.search('I would like to optout plase')"
   ]
  },
  {
   "cell_type": "code",
   "execution_count": 25,
   "metadata": {},
   "outputs": [
    {
     "data": {
      "text/plain": [
       "<re.Match object; span=(23, 33), match='(abce234c)'>"
      ]
     },
     "execution_count": 25,
     "metadata": {},
     "output_type": "execute_result"
    }
   ],
   "source": [
    "re.search(r'\\((\\w*)\\)', 're: your comment reply (abce234c)')"
   ]
  },
  {
   "cell_type": "code",
   "execution_count": 26,
   "metadata": {},
   "outputs": [
    {
     "data": {
      "text/plain": [
       "True"
      ]
     },
     "execution_count": 26,
     "metadata": {},
     "output_type": "execute_result"
    }
   ],
   "source": [
    "'CommunityGovProject' not in OPTED_OUT_USERS"
   ]
  },
  {
   "cell_type": "code",
   "execution_count": null,
   "metadata": {},
   "outputs": [],
   "source": []
  }
 ],
 "metadata": {
  "kernelspec": {
   "display_name": "Python [conda env:pcbot]",
   "language": "python",
   "name": "conda-env-pcbot-py"
  },
  "language_info": {
   "codemirror_mode": {
    "name": "ipython",
    "version": 3
   },
   "file_extension": ".py",
   "mimetype": "text/x-python",
   "name": "python",
   "nbconvert_exporter": "python",
   "pygments_lexer": "ipython3",
   "version": "3.9.7"
  }
 },
 "nbformat": 4,
 "nbformat_minor": 4
}
