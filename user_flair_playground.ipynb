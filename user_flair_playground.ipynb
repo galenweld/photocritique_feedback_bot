{
 "cells": [
  {
   "cell_type": "code",
   "execution_count": 1,
   "metadata": {},
   "outputs": [
    {
     "name": "stdout",
     "output_type": "stream",
     "text": [
      "Loaded 0 users who have opted out from follow-ups.\n",
      "Loaded 1 users who have opted out from reminders.\n"
     ]
    }
   ],
   "source": [
    "# PROJECT IMPORTS\n",
    "from setup import reddit\n",
    "from settings import *\n",
    "\n",
    "# THIRD PARTY IMPORTS\n",
    "import praw"
   ]
  },
  {
   "cell_type": "code",
   "execution_count": 3,
   "metadata": {},
   "outputs": [],
   "source": [
    "subreddit = reddit.subreddit('photocritique')"
   ]
  },
  {
   "cell_type": "code",
   "execution_count": 5,
   "metadata": {},
   "outputs": [
    {
     "name": "stdout",
     "output_type": "stream",
     "text": [
      "{'allowable_content': 'all', 'text': 'flickr', 'text_color': 'dark', 'mod_only': False, 'background_color': '', 'id': 'c6c2f206-261c-11e4-bbc5-12313b0e480f', 'css_class': 'flickr', 'max_emojis': 10, 'richtext': [], 'text_editable': True, 'override_css': False, 'type': 'text'}\n",
      "{'allowable_content': 'all', 'text': 'instagram', 'text_color': 'dark', 'mod_only': False, 'background_color': '', 'id': 'c8f05b18-261c-11e4-8e52-12313d051855', 'css_class': 'instagram', 'max_emojis': 10, 'richtext': [], 'text_editable': True, 'override_css': False, 'type': 'text'}\n",
      "{'allowable_content': 'all', 'text': '500px', 'text_color': 'dark', 'mod_only': False, 'background_color': '', 'id': 'cc438c0e-261c-11e4-9a1a-12313b0e480f', 'css_class': '500px', 'max_emojis': 10, 'richtext': [], 'text_editable': True, 'override_css': False, 'type': 'text'}\n",
      "{'allowable_content': 'all', 'text': 'facebook', 'text_color': 'dark', 'mod_only': False, 'background_color': '', 'id': 'cd624daa-261c-11e4-82f3-12313d09613a', 'css_class': 'facebook', 'max_emojis': 10, 'richtext': [], 'text_editable': True, 'override_css': False, 'type': 'text'}\n",
      "{'allowable_content': 'all', 'text': 'google plus', 'text_color': 'dark', 'mod_only': False, 'background_color': '', 'id': 'd07933f0-261c-11e4-9008-12313b0e480f', 'css_class': 'google', 'max_emojis': 10, 'richtext': [], 'text_editable': True, 'override_css': False, 'type': 'text'}\n",
      "{'allowable_content': 'all', 'text': 'my own website', 'text_color': 'dark', 'mod_only': False, 'background_color': '', 'id': 'db800bd4-261c-11e4-9e38-12313b0e480f', 'css_class': 'website', 'max_emojis': 10, 'richtext': [], 'text_editable': True, 'override_css': False, 'type': 'text'}\n",
      "{'allowable_content': 'all', 'text': 'tumblr', 'text_color': 'dark', 'mod_only': False, 'background_color': '', 'id': 'ddc7d9a8-261c-11e4-b32e-12313d051855', 'css_class': 'tumblr', 'max_emojis': 10, 'richtext': [], 'text_editable': True, 'override_css': False, 'type': 'text'}\n",
      "{'allowable_content': 'all', 'text': 'picasa', 'text_color': 'dark', 'mod_only': False, 'background_color': '', 'id': 'dfe3b612-261c-11e4-b75b-12313b0e89ad', 'css_class': 'picasa', 'max_emojis': 10, 'richtext': [], 'text_editable': True, 'override_css': False, 'type': 'text'}\n",
      "{'allowable_content': 'all', 'text': 'imgur', 'text_color': 'dark', 'mod_only': False, 'background_color': '', 'id': 'e1987efc-261c-11e4-a156-12313b0e89ad', 'css_class': 'imgur', 'max_emojis': 10, 'richtext': [], 'text_editable': True, 'override_css': False, 'type': 'text'}\n",
      "{'allowable_content': 'all', 'text': 'twitter', 'text_color': 'dark', 'mod_only': False, 'background_color': '', 'id': 'e354e5a0-261c-11e4-a203-12313d051855', 'css_class': 'twitter', 'max_emojis': 10, 'richtext': [], 'text_editable': True, 'override_css': False, 'type': 'text'}\n",
      "{'allowable_content': 'all', 'text': 'deviant art', 'text_color': 'dark', 'mod_only': False, 'background_color': '', 'id': 'e632be32-261c-11e4-8143-12313d1495ed', 'css_class': 'deviantart', 'max_emojis': 10, 'richtext': [], 'text_editable': True, 'override_css': False, 'type': 'text'}\n",
      "{'allowable_content': 'all', 'text': 'smugmug', 'text_color': 'dark', 'mod_only': False, 'background_color': '', 'id': 'e87ac234-261c-11e4-bf2c-12313d051855', 'css_class': 'smugmug', 'max_emojis': 10, 'richtext': [], 'text_editable': True, 'override_css': False, 'type': 'text'}\n",
      "{'allowable_content': 'all', 'text': 'behance', 'text_color': 'dark', 'mod_only': False, 'background_color': '', 'id': 'ea5cd6be-261c-11e4-8f34-12313d14a087', 'css_class': 'behance', 'max_emojis': 10, 'richtext': [], 'text_editable': True, 'override_css': False, 'type': 'text'}\n",
      "{'allowable_content': 'all', 'text': '1x', 'text_color': 'dark', 'mod_only': False, 'background_color': '', 'id': 'eeb11eaa-261c-11e4-9a1a-12313b0e480f', 'css_class': '1x', 'max_emojis': 10, 'richtext': [], 'text_editable': True, 'override_css': False, 'type': 'text'}\n",
      "{'allowable_content': 'all', 'text': 'wordpress', 'text_color': 'dark', 'mod_only': False, 'background_color': '', 'id': '9c344d28-2856-11e4-b051-12313d1604a4', 'css_class': 'wordpress', 'max_emojis': 10, 'richtext': [], 'text_editable': True, 'override_css': False, 'type': 'text'}\n",
      "{'allowable_content': 'all', 'text': 'CritiquePoints', 'text_color': 'dark', 'mod_only': False, 'background_color': '', 'id': 'd80fe2f4-9e77-11ec-b748-0e368bf5ca27', 'css_class': '', 'max_emojis': 10, 'richtext': [], 'text_editable': False, 'override_css': False, 'type': 'text'}\n"
     ]
    }
   ],
   "source": [
    "for template in subreddit.flair.templates:\n",
    "    print(template)"
   ]
  },
  {
   "cell_type": "code",
   "execution_count": 6,
   "metadata": {},
   "outputs": [],
   "source": [
    "user_flair_template = 'd80fe2f4-9e77-11ec-b748-0e368bf5ca27'"
   ]
  },
  {
   "cell_type": "code",
   "execution_count": null,
   "metadata": {},
   "outputs": [],
   "source": [
    "# reddit.subreddit(\"test\").flair.set(\"bboe\", text=\"PRAW author\", css_class=\"mods\")\n",
    "# template = \"6bd28436-1aa7-11e9-9902-0e05ab0fad46\"\n",
    "# reddit.subreddit(\"test\").flair.set(\n",
    "#     \"spez\", text=\"Reddit CEO\", flair_template_id=template\n",
    "# )"
   ]
  },
  {
   "cell_type": "code",
   "execution_count": 7,
   "metadata": {},
   "outputs": [],
   "source": [
    "subreddit.flair.set('cyclistNerd', flair_template_id=user_flair_template, text='1 CritiquePoints')"
   ]
  },
  {
   "cell_type": "code",
   "execution_count": 8,
   "metadata": {},
   "outputs": [
    {
     "name": "stdout",
     "output_type": "stream",
     "text": [
      "[{'flair_css_class': '', 'flair_template_id': '9e76bfba-fbdc-11e6-b8ac-0e5b878e1042', 'flair_text_editable': True, 'flair_position': 'left', 'flair_text': 'Needs EXIF Info'}, {'flair_css_class': '', 'flair_template_id': 'ab7d3180-fbdc-11e6-bcde-0ec4179e1ad2', 'flair_text_editable': True, 'flair_position': 'left', 'flair_text': 'Needs Better Title'}, {'flair_css_class': '', 'flair_template_id': '3e31f4e8-fbdd-11e6-b304-0e167b3912bc', 'flair_text_editable': True, 'flair_position': 'left', 'flair_text': 'Good Title'}, {'flair_css_class': '', 'flair_template_id': 'aecd47a6-9f03-11ec-bd3c-bed2b38f4d69', 'flair_text_editable': True, 'flair_position': 'left', 'flair_text': 'Great Critique in Comments'}]\n"
     ]
    }
   ],
   "source": [
    "for submission in subreddit.hot(limit=1):\n",
    "    print( submission.flair.choices() )"
   ]
  },
  {
   "cell_type": "code",
   "execution_count": null,
   "metadata": {},
   "outputs": [],
   "source": []
  }
 ],
 "metadata": {
  "kernelspec": {
   "display_name": "Python [conda env:pcbot]",
   "language": "python",
   "name": "conda-env-pcbot-py"
  },
  "language_info": {
   "codemirror_mode": {
    "name": "ipython",
    "version": 3
   },
   "file_extension": ".py",
   "mimetype": "text/x-python",
   "name": "python",
   "nbconvert_exporter": "python",
   "pygments_lexer": "ipython3",
   "version": "3.9.7"
  }
 },
 "nbformat": 4,
 "nbformat_minor": 2
}
