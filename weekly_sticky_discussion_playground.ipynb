{
 "cells": [
  {
   "cell_type": "code",
   "execution_count": 1,
   "metadata": {},
   "outputs": [
    {
     "name": "stdout",
     "output_type": "stream",
     "text": [
      "Loaded 0 users who have opted out from follow-ups.\n",
      "Loaded 0 users who have opted out from reminders.\n"
     ]
    },
    {
     "name": "stderr",
     "output_type": "stream",
     "text": [
      "Version 7.5.0 of praw is outdated. Version 7.6.0 was released Tuesday May 10, 2022.\n"
     ]
    }
   ],
   "source": [
    "# STANDARD LIBRARY IMPORTS\n",
    "import os\n",
    "import datetime\n",
    "import glob\n",
    "\n",
    "# THIRD PARTY IMPORTS\n",
    "import praw\n",
    "import pandas as pd\n",
    "\n",
    "# PROJECT IMPORTS\n",
    "from setup import reddit\n",
    "from settings import *\n",
    "\n",
    "subreddit = reddit.subreddit(TARGET_SUBREDDIT)"
   ]
  },
  {
   "cell_type": "code",
   "execution_count": 2,
   "metadata": {},
   "outputs": [],
   "source": [
    "# load most recent 2 weeks worth of awards\n",
    "recent_awardsfiles = sorted(glob.glob( os.path.join(PATH_TO_STORE, 'awards*.csv') ), reverse=True)\n",
    "\n",
    "# last two files\n",
    "df = pd.concat([pd.read_csv(f) for f in recent_awardsfiles[:2]])"
   ]
  },
  {
   "cell_type": "code",
   "execution_count": 3,
   "metadata": {},
   "outputs": [],
   "source": [
    "# filter to recent WEEKLY_STICKY_THREAD_TIME_PERIOD weeks\n",
    "recency_threshold = datetime.datetime.utcnow() - datetime.timedelta(weeks=WEEKLY_STICKY_THREAD_TIME_PERIOD)\n",
    "df = df.loc[ df.awarding_timestamp > int(recency_threshold.timestamp()) ,:]"
   ]
  },
  {
   "cell_type": "code",
   "execution_count": 20,
   "metadata": {},
   "outputs": [],
   "source": [
    "# compute top awardees\n",
    "awardees = df.groupby('awarded_author').agg({'awarding_id':'count'}).iloc[:,0].sort_values(ascending=False)\n",
    "\n",
    "# include more awardees in case of ties\n",
    "awardees = awardees.loc[ awardees >= awardees.iloc[NUM_TOP_AWARDEES-1] ]"
   ]
  },
  {
   "cell_type": "code",
   "execution_count": 21,
   "metadata": {},
   "outputs": [
    {
     "data": {
      "text/plain": [
       "awarded_author\n",
       "kenerling            6\n",
       "theHanMan62          3\n",
       "Superman_Dam_Fool    2\n",
       "chuckman13           2\n",
       "BlurredOrange        2\n",
       "bmbphotos            2\n",
       "hippobiscuit         2\n",
       "stygian_dj           2\n",
       "Kudzupatch           2\n",
       "Name: awarding_id, dtype: int64"
      ]
     },
     "execution_count": 21,
     "metadata": {},
     "output_type": "execute_result"
    }
   ],
   "source": [
    "awardees"
   ]
  },
  {
   "cell_type": "code",
   "execution_count": 26,
   "metadata": {},
   "outputs": [],
   "source": [
    "submissions = df.groupby('submission_id').agg({'awarding_id':'count'}).iloc[:,0].sort_values(ascending=False).iloc[:NUM_TOP_THREADS]"
   ]
  },
  {
   "cell_type": "code",
   "execution_count": 27,
   "metadata": {},
   "outputs": [
    {
     "data": {
      "text/plain": [
       "submission_id\n",
       "t3_v1u9zc    13\n",
       "t3_uymggw    11\n",
       "t3_v17av2    10\n",
       "Name: awarding_id, dtype: int64"
      ]
     },
     "execution_count": 27,
     "metadata": {},
     "output_type": "execute_result"
    }
   ],
   "source": [
    "submissions"
   ]
  },
  {
   "cell_type": "code",
   "execution_count": 36,
   "metadata": {},
   "outputs": [],
   "source": [
    "# fetch submission titles and urls from the api\n",
    "\n",
    "def format_submission_link(prefixed_id):\n",
    "    submission = reddit.submission(id=prefixed_id[3:])\n",
    "    \n",
    "    try:\n",
    "        title = submission.title\n",
    "        link  = submission.permalink\n",
    "        return f'[{title}](https://reddit.com{link})'\n",
    "    except:\n",
    "        return None\n",
    "    \n",
    "submissions_formatted = map(format_submission_link, submissions.index)"
   ]
  },
  {
   "cell_type": "code",
   "execution_count": 37,
   "metadata": {},
   "outputs": [],
   "source": [
    "submissions.index = submissions_formatted"
   ]
  },
  {
   "cell_type": "code",
   "execution_count": 39,
   "metadata": {},
   "outputs": [],
   "source": [
    "submissions = submissions.loc[submissions.index.notnull()]"
   ]
  },
  {
   "cell_type": "code",
   "execution_count": 40,
   "metadata": {},
   "outputs": [
    {
     "data": {
      "text/plain": [
       "[Does something feel off with this photo or is it just me?](https://reddit.com/r/photocritique/comments/v1u9zc/does_something_feel_off_with_this_photo_or_is_it/)    13\n",
       "[2 people and louvre](https://reddit.com/r/photocritique/comments/uymggw/2_people_and_louvre/)                                                                       11\n",
       "[ITAP of the sea (Is this picture overly edited?)](https://reddit.com/r/photocritique/comments/v17av2/itap_of_the_sea_is_this_picture_overly_edited/)                10\n",
       "Name: awarding_id, dtype: int64"
      ]
     },
     "execution_count": 40,
     "metadata": {},
     "output_type": "execute_result"
    }
   ],
   "source": [
    "submissions"
   ]
  },
  {
   "cell_type": "code",
   "execution_count": null,
   "metadata": {},
   "outputs": [],
   "source": []
  }
 ],
 "metadata": {
  "kernelspec": {
   "display_name": "Python [conda env:pcbot]",
   "language": "python",
   "name": "conda-env-pcbot-py"
  },
  "language_info": {
   "codemirror_mode": {
    "name": "ipython",
    "version": 3
   },
   "file_extension": ".py",
   "mimetype": "text/x-python",
   "name": "python",
   "nbconvert_exporter": "python",
   "pygments_lexer": "ipython3",
   "version": "3.9.7"
  }
 },
 "nbformat": 4,
 "nbformat_minor": 2
}
