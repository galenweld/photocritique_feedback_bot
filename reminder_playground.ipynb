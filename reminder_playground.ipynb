{
 "cells": [
  {
   "cell_type": "code",
   "execution_count": 3,
   "metadata": {},
   "outputs": [
    {
     "name": "stdout",
     "output_type": "stream",
     "text": [
      "Loaded 2 users who have opted out.\n"
     ]
    }
   ],
   "source": [
    "# STANDARD LIBRARY IMPORTS\n",
    "import re\n",
    "import csv\n",
    "import os\n",
    "import datetime\n",
    "\n",
    "# PROJECT IMPORTS\n",
    "from setup import reddit\n",
    "from settings import *\n",
    "\n",
    "# THIRD PARTY IMPORTS\n",
    "import praw"
   ]
  },
  {
   "cell_type": "code",
   "execution_count": 4,
   "metadata": {},
   "outputs": [
    {
     "data": {
      "text/plain": [
       "'Did you get good feedback on your photo in /r/{TARGET_SUBREDDIT}?'"
      ]
     },
     "execution_count": 4,
     "metadata": {},
     "output_type": "execute_result"
    }
   ],
   "source": [
    "'Did you get good feedback on your photo in /r/{TARGET_SUBREDDIT}?'"
   ]
  },
  {
   "cell_type": "code",
   "execution_count": 5,
   "metadata": {},
   "outputs": [
    {
     "data": {
      "text/plain": [
       "\"\\nYou recently posted [a photo for critique](https://old.reddit.com/r/phcritiquetest/comments/szykjh/i_took_this_photo_of_my_tent_in_the_snow_a_few/) in /r/photocritique.\\n\\nI hope you received some useful feedback -- if you did, you can reply to any comment with '!goodcritique' to give a Critique Point to the person who provided you with a high quality critique. Giving Critique Points is easy, and helps improve the whole community.\\nSee [here](todo) for more information on Critique Points.\\n\\nThis message was sent by a bot. To opt out of future reminders such as this one, reply to this PM with 'optout'.\\n\""
      ]
     },
     "execution_count": 5,
     "metadata": {},
     "output_type": "execute_result"
    }
   ],
   "source": [
    "'''\n",
    "You recently posted [a photo for critique](https://old.reddit.com/r/phcritiquetest/comments/szykjh/i_took_this_photo_of_my_tent_in_the_snow_a_few/) in /r/photocritique.\n",
    "\n",
    "I hope you received some useful feedback -- if you did, you can reply to any comment with '!goodcritique' to give a Critique Point to the person who provided you with a high quality critique. Giving Critique Points is easy, and helps improve the whole community.\n",
    "See [here](todo) for more information on Critique Points.\n",
    "\n",
    "This message was sent by a bot. To opt out of future reminders such as this one, reply to this PM with 'optout'.\n",
    "'''"
   ]
  },
  {
   "cell_type": "code",
   "execution_count": 6,
   "metadata": {},
   "outputs": [],
   "source": [
    "subreddit = reddit.subreddit(TARGET_SUBREDDIT)"
   ]
  },
  {
   "cell_type": "code",
   "execution_count": 7,
   "metadata": {},
   "outputs": [],
   "source": [
    "# overiding this for testing\n",
    "REMINDER_LOWER_BOUND, REMINDER_UPPER_BOUND = 24,4*24+6\n",
    "assert REMINDER_LOWER_BOUND <= REMINDER_UPPER_BOUND"
   ]
  },
  {
   "cell_type": "code",
   "execution_count": 9,
   "metadata": {},
   "outputs": [
    {
     "name": "stdout",
     "output_type": "stream",
     "text": [
      "skipping Grain elevators in the Palouse in winter.\n",
      "processing Mount Rainier from Mount Pleasant\n",
      "stopping at older post Mount Rainier from Mount Pleasant\n"
     ]
    }
   ],
   "source": [
    "now = datetime.datetime.utcnow() # using utcnow to align with reddit timezone\n",
    "\n",
    "for submission in subreddit.new(limit=None):\n",
    "    submission_age = now - datetime.datetime.fromtimestamp( submission.created_utc )\n",
    "    submission_age = submission_age.total_seconds() / 60**2 # convert to total hours\n",
    "    \n",
    "    if submission_age < REMINDER_LOWER_BOUND:\n",
    "        print(f'skipping {submission.title}')\n",
    "        continue # ignore young posts\n",
    "    \n",
    "    # process posts here\n",
    "    print(f'processing {submission.title}')\n",
    "    \n",
    "    if submission_age > REMINDER_UPPER_BOUND:\n",
    "        print(f'stopping at older post {submission.title}')\n",
    "        break"
   ]
  },
  {
   "cell_type": "code",
   "execution_count": 14,
   "metadata": {},
   "outputs": [
    {
     "data": {
      "text/plain": [
       "datetime.datetime(2022, 2, 25, 18, 24, 35)"
      ]
     },
     "execution_count": 14,
     "metadata": {},
     "output_type": "execute_result"
    }
   ],
   "source": [
    "datetime.datetime.fromtimestamp( submission.created_utc )"
   ]
  },
  {
   "cell_type": "code",
   "execution_count": 19,
   "metadata": {},
   "outputs": [
    {
     "data": {
      "text/plain": [
       "126.2050830475"
      ]
     },
     "execution_count": 19,
     "metadata": {},
     "output_type": "execute_result"
    }
   ],
   "source": [
    "submission_age.total_seconds() / 60**2"
   ]
  },
  {
   "cell_type": "code",
   "execution_count": 11,
   "metadata": {},
   "outputs": [
    {
     "data": {
      "text/plain": [
       "[{'flair_css_class': '',\n",
       "  'flair_template_id': '7eeec638-8f07-11ec-8294-2a47d40d3100',\n",
       "  'flair_text_editable': True,\n",
       "  'flair_position': 'right',\n",
       "  'flair_text': 'HPs from op'}]"
      ]
     },
     "execution_count": 11,
     "metadata": {},
     "output_type": "execute_result"
    }
   ],
   "source": [
    "submission.flair.choices()"
   ]
  },
  {
   "cell_type": "code",
   "execution_count": null,
   "metadata": {},
   "outputs": [],
   "source": []
  }
 ],
 "metadata": {
  "kernelspec": {
   "display_name": "Python [conda env:pcbot]",
   "language": "python",
   "name": "conda-env-pcbot-py"
  },
  "language_info": {
   "codemirror_mode": {
    "name": "ipython",
    "version": 3
   },
   "file_extension": ".py",
   "mimetype": "text/x-python",
   "name": "python",
   "nbconvert_exporter": "python",
   "pygments_lexer": "ipython3",
   "version": "3.9.7"
  }
 },
 "nbformat": 4,
 "nbformat_minor": 4
}
