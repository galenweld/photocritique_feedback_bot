{
 "cells": [
  {
   "cell_type": "code",
   "execution_count": 1,
   "metadata": {},
   "outputs": [
    {
     "name": "stdout",
     "output_type": "stream",
     "text": [
      "Loaded 0 users who have opted out from follow-ups.\n",
      "Loaded 1 users who have opted out from reminders.\n"
     ]
    }
   ],
   "source": [
    "# STANDARD LIBRARY IMPORTS\n",
    "import re\n",
    "import csv\n",
    "import os\n",
    "import datetime\n",
    "\n",
    "# PROJECT IMPORTS\n",
    "from setup import reddit\n",
    "from settings import *\n",
    "\n",
    "# THIRD PARTY IMPORTS\n",
    "import praw"
   ]
  },
  {
   "cell_type": "code",
   "execution_count": 2,
   "metadata": {},
   "outputs": [],
   "source": [
    "REMINDER_NUM_COMMENTS_THRESHOLD = 4"
   ]
  },
  {
   "cell_type": "code",
   "execution_count": 3,
   "metadata": {},
   "outputs": [],
   "source": [
    "subreddit = reddit.subreddit(TARGET_SUBREDDIT)"
   ]
  },
  {
   "cell_type": "code",
   "execution_count": 4,
   "metadata": {},
   "outputs": [],
   "source": [
    "# overiding this for testing\n",
    "REMINDER_LOWER_BOUND, REMINDER_UPPER_BOUND = 24,11*24\n",
    "assert REMINDER_LOWER_BOUND <= REMINDER_UPPER_BOUND"
   ]
  },
  {
   "cell_type": "code",
   "execution_count": 5,
   "metadata": {},
   "outputs": [],
   "source": [
    "def get_last_processed_post():\n",
    "    if os.path.exists(LAST_PROCESSED_POST_PATH):\n",
    "        with open(LAST_PROCESSED_POST_PATH, 'r') as f:\n",
    "            return f.read().strip()\n",
    "    else: return None\n",
    "\n",
    "def set_last_processed_post(post_id):\n",
    "    with open(LAST_PROCESSED_POST_PATH, 'w') as f:\n",
    "        f.write(post_id)\n",
    "    return"
   ]
  },
  {
   "cell_type": "code",
   "execution_count": 10,
   "metadata": {},
   "outputs": [],
   "source": [
    "get_last_processed_post()"
   ]
  },
  {
   "cell_type": "code",
   "execution_count": 14,
   "metadata": {},
   "outputs": [
    {
     "name": "stdout",
     "output_type": "stream",
     "text": [
      "considering post t92vd0... skipping young post Mount Baker from Yellow Aster Butte\n",
      "considering post t5evz5... stopping at last processed post t5evz5\n"
     ]
    }
   ],
   "source": [
    "last_processed_post = get_last_processed_post()\n",
    "new_last_processed_post = None\n",
    "\n",
    "now = datetime.datetime.utcnow() # using utcnow to align with reddit timezone\n",
    "\n",
    "for submission in subreddit.new(limit=None):\n",
    "    submission_age = now - datetime.datetime.fromtimestamp( submission.created_utc )\n",
    "    submission_age = submission_age.total_seconds() / 60**2 # convert to total hours\n",
    "    \n",
    "    print(f'considering post {submission.id}... ', end='')\n",
    "    \n",
    "    if submission_age < REMINDER_LOWER_BOUND:\n",
    "        print(f'skipping young post {submission.title}')\n",
    "        continue # ignore young posts\n",
    "        \n",
    "    if (last_processed_post is not None) and (submission.id == last_processed_post):\n",
    "        print(f'stopping at last processed post {submission.id}')\n",
    "        break\n",
    "    \n",
    "    if submission_age > REMINDER_UPPER_BOUND:\n",
    "        print(f'stopping at older post {submission.title}')\n",
    "        break\n",
    "        \n",
    "    print(f'processing post {submission.title}')\n",
    "    if int(submission.id, 36) > int(new_last_processed_post, 36):\n",
    "        # keep only the youngest post\n",
    "        new_last_processed_post = submission.id\n",
    "        \n",
    "if new_last_processed_post is not None:\n",
    "    set_last_processed_post(new_last_processed_post)"
   ]
  },
  {
   "cell_type": "code",
   "execution_count": 6,
   "metadata": {},
   "outputs": [
    {
     "data": {
      "text/plain": [
       "[{'flair_css_class': '',\n",
       "  'flair_template_id': '7eeec638-8f07-11ec-8294-2a47d40d3100',\n",
       "  'flair_text_editable': True,\n",
       "  'flair_position': 'right',\n",
       "  'flair_text': 'HPs from op'}]"
      ]
     },
     "execution_count": 6,
     "metadata": {},
     "output_type": "execute_result"
    }
   ],
   "source": [
    "submission.flair.choices()"
   ]
  },
  {
   "cell_type": "code",
   "execution_count": 7,
   "metadata": {},
   "outputs": [
    {
     "data": {
      "text/plain": [
       "<praw.models.reddit.submission.SubmissionFlair at 0x7f39100fa190>"
      ]
     },
     "execution_count": 7,
     "metadata": {},
     "output_type": "execute_result"
    }
   ],
   "source": [
    "submission.flair"
   ]
  },
  {
   "cell_type": "code",
   "execution_count": 8,
   "metadata": {},
   "outputs": [
    {
     "data": {
      "text/plain": [
       "True"
      ]
     },
     "execution_count": 8,
     "metadata": {},
     "output_type": "execute_result"
    }
   ],
   "source": [
    "submission.link_flair_template_id == FLAIR_TEMPLATE_ID"
   ]
  },
  {
   "cell_type": "code",
   "execution_count": 17,
   "metadata": {},
   "outputs": [],
   "source": [
    "def send_reminder(submission):\n",
    "    '''\n",
    "    Send a reminder to the author of the given submission, unless either of the following conditions are met:\n",
    "    - the author has opted out from reminders, or\n",
    "    - the submission already has a flair indicating it has recieved HPs from OP\n",
    "    '''\n",
    "    if (submission.link_flair_template_id == FLAIR_TEMPLATE_ID) or (submission.author.name in REMINDER_OPTED_OUT_USERS):\n",
    "        # already had points given by OP or opted out from reminders, skip\n",
    "        return\n",
    "\n",
    "    if len( submission.comments.list() ) < REMINDER_NUM_COMMENTS_THRESHOLD:\n",
    "        # not enough comments to message\n",
    "        return\n",
    "    \n",
    "    reminder_subject = f'Did you get good feedback on your photo in /r/{TARGET_SUBREDDIT}?'\n",
    "    reminder_body = []\n",
    "    reminder_body.append(f'You recently posted [a photo for critique](https://www.reddit.com{submission.permalink}) in /r/{TARGET_SUBREDDIT}.')\n",
    "    reminder_body.append('\\n')\n",
    "    reminder_body.append('')\n",
    "    reminder_body.append('I hope you received some useful feedback!')\n",
    "    reminder_body.append(f\"If you did, you can reply to any comment with '{FEEDBACK_TOKEN.pattern}' to give a Critique Point to the person who provided you with a high quality critique.\")\n",
    "    reminder_body.append('Giving Critique Points is easy, and helps improve the whole community.')\n",
    "    reminder_body.append(f'See [here]({BOT_INFO_URL}) for more information on Critique Points.')\n",
    "    reminder_body.append('\\n')\n",
    "    reminder_body.append(f\"This message was sent by a bot. To opt out of future reminders such as this one, reply to this PM with '{REMINDER_OPTOUT_PATTERN.pattern}'.\")\n",
    "    \n",
    "    submission.author.message(reminder_subject, '\\n'.join(reminder_body))\n",
    "    return"
   ]
  },
  {
   "cell_type": "code",
   "execution_count": null,
   "metadata": {},
   "outputs": [],
   "source": []
  }
 ],
 "metadata": {
  "kernelspec": {
   "display_name": "Python [conda env:pcbot]",
   "language": "python",
   "name": "conda-env-pcbot-py"
  },
  "language_info": {
   "codemirror_mode": {
    "name": "ipython",
    "version": 3
   },
   "file_extension": ".py",
   "mimetype": "text/x-python",
   "name": "python",
   "nbconvert_exporter": "python",
   "pygments_lexer": "ipython3",
   "version": "3.9.7"
  }
 },
 "nbformat": 4,
 "nbformat_minor": 4
}
