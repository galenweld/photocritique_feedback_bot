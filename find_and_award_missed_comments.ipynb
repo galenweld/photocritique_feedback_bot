{
 "cells": [
  {
   "cell_type": "code",
   "execution_count": 15,
   "metadata": {},
   "outputs": [],
   "source": [
    "# STANDARD LIBRARY IMPORTS\n",
    "import re\n",
    "import csv\n",
    "import os\n",
    "import datetime\n",
    "import subprocess\n",
    "import sys # for args\n",
    "\n",
    "# THIRD PARTY IMPORTS\n",
    "import praw\n",
    "\n",
    "# PROJECT IMPORTS\n",
    "from setup import reddit\n",
    "from settings import *\n",
    "from tools import *\n",
    "from inbox import check_messages\n",
    "from reminders import send_reminders\n",
    "from log_missed_comment import manually_award_comment\n",
    "\n",
    "subreddit = reddit.subreddit(TARGET_SUBREDDIT)"
   ]
  },
  {
   "cell_type": "markdown",
   "metadata": {},
   "source": [
    "# Step 1: Get the last awarded post"
   ]
  },
  {
   "cell_type": "code",
   "execution_count": 22,
   "metadata": {},
   "outputs": [],
   "source": [
    "# get the last awarded post. We don't need to look back past this time.\n",
    "last_award = next( reddit.user.me().comments.new() )"
   ]
  },
  {
   "cell_type": "markdown",
   "metadata": {},
   "source": [
    "# Step 2: Search the most recent 1,000 comments, and record their IDs"
   ]
  },
  {
   "cell_type": "code",
   "execution_count": 57,
   "metadata": {},
   "outputs": [
    {
     "name": "stdout",
     "output_type": "stream",
     "text": [
      "Should we award points based on comment ilhtgap by u/sadhak_x0?\n",
      "Should we award points based on comment ilhiq96 by u/godparticle123?\n",
      "Should we award points based on comment ilghg15 by u/AtmaCAM?\n",
      "Should we award points based on comment ilg1ivc by u/LensSchwarzWeiss?\n",
      "Should we award points based on comment ilcppo4 by u/LensSchwarzWeiss?\n",
      "Should we award points based on comment ilcn36i by u/Kontact_OW?\n",
      "Should we award points based on comment ilcjkue by u/SykeLopse?\n",
      "Should we award points based on comment ilcal4j by u/Kontact_OW?\n",
      "Should we award points based on comment ilal8k8 by u/SykeLopse?\n",
      "Should we award points based on comment ilajvmr by u/Getcheb?\n",
      "Should we award points based on comment ilafa9b by u/SykeLopse?\n",
      "Should we award points based on comment il8clhn by u/Repartee41?\n",
      "Should we award points based on comment il7ckh8 by u/SpadesD7?\n",
      "Should we award points based on comment il7am26 by u/DichotomousSoul?\n",
      "Should we award points based on comment il7a77a by u/DichotomousSoul?\n",
      "Should we award points based on comment il79p19 by u/DichotomousSoul?\n",
      "Should we award points based on comment il72vk3 by u/sword_muncher?\n",
      "Should we award points based on comment il571wm by u/Various-Signature-60?\n",
      "Should we award points based on comment il4m5y4 by u/opekartinka?\n",
      "\n",
      "\n",
      "Searched 999 comments. Found 19 that might need awarding.\n",
      "There is a gap of 54.7 hours between the last comment we searched, and the last award.\n",
      "Hopefully the above number is 0 or small!\n"
     ]
    }
   ],
   "source": [
    "num_processed_comments = 0\n",
    "num_awarded_comments   = 0\n",
    "\n",
    "# we can only go back 1,000 comments :|\n",
    "for awarding_comment in subreddit.comments(limit=None):\n",
    "    num_processed_comments += 1\n",
    "    \n",
    "    if awarding_comment.author.name != 'AutoModerator' and comment_contains_token( awarding_comment ):\n",
    "        print(f'Should we award points based on comment {awarding_comment.id} by u/{awarding_comment.author.name}?')\n",
    "        num_awarded_comments += 1\n",
    "\n",
    "    if awarding_comment.created_utc <= last_award.created_utc:\n",
    "        # we've gone back far enough\n",
    "        print('Yay! There were less than 1,000 comments since the bot crashed.\\n')\n",
    "        break\n",
    "        \n",
    "print(f'\\n\\nSearched {num_processed_comments} comments. Found {num_awarded_comments} that might need awarding.')\n",
    "        \n",
    "print(f'There is a gap of {( awarding_comment.created_utc - last_award.created_utc ) / 60 / 60:.1f} hours between the last comment we searched, and the last award.')\n",
    "print('Hopefully the above number is 0 or small!')"
   ]
  },
  {
   "cell_type": "markdown",
   "metadata": {},
   "source": [
    "# Step 3: Manually award all the comments above.\n",
    "\n",
    "Reddit will rate limit you at some point, so you'll need to wait a few mins if you have more than ~15 comments to award.\n",
    "\n",
    "To award comments, copy the ID above into the below string, and run the cell. Repeat for all comments listed above. You may want to manually check things like:\n",
    "\n",
    "- don't award to top level comments? \n",
    "\n",
    "Are these things still in `run.py`?"
   ]
  },
  {
   "cell_type": "code",
   "execution_count": 52,
   "metadata": {},
   "outputs": [
    {
     "name": "stdout",
     "output_type": "stream",
     "text": [
      "Manually awarding points based on comment il4m5y4 by u/opekartinka.\n"
     ]
    }
   ],
   "source": [
    "# manually_award_comment('il4m5y4')"
   ]
  },
  {
   "cell_type": "markdown",
   "metadata": {},
   "source": [
    "# Step 5: Manually look for missed awards that need checking\n",
    "\n",
    "I would do this by starting at /new, scrolling back to post from the below last-checked comment, and then manually opening all the posts after that and searching for `!CritiquePoint`. Do this until you are fairly certain you've gone far enough."
   ]
  },
  {
   "cell_type": "code",
   "execution_count": 60,
   "metadata": {},
   "outputs": [
    {
     "name": "stdout",
     "output_type": "stream",
     "text": [
      "This is the last comment we were able to check:\n",
      "/r/photocritique/comments/wt9064/thoughts_on_this_edit_didnt_have_much_lighting_at/il3iajp/\n",
      "\n",
      "Comments older than this may need checking manually.\n"
     ]
    }
   ],
   "source": [
    "print('This is the last comment we were able to check:')\n",
    "print(awarding_comment.permalink)\n",
    "\n",
    "print('\\nComments older than this may need checking manually.')"
   ]
  },
  {
   "cell_type": "code",
   "execution_count": 75,
   "metadata": {},
   "outputs": [
    {
     "name": "stdout",
     "output_type": "stream",
     "text": [
      "Manually awarding points based on comment ikpzziq by u/AK314159.\n"
     ]
    }
   ],
   "source": [
    "#  manually_award_comment('ikpzziq')"
   ]
  },
  {
   "cell_type": "code",
   "execution_count": null,
   "metadata": {},
   "outputs": [],
   "source": []
  }
 ],
 "metadata": {
  "kernelspec": {
   "display_name": "Python [conda env:pcbot]",
   "language": "python",
   "name": "conda-env-pcbot-py"
  },
  "language_info": {
   "codemirror_mode": {
    "name": "ipython",
    "version": 3
   },
   "file_extension": ".py",
   "mimetype": "text/x-python",
   "name": "python",
   "nbconvert_exporter": "python",
   "pygments_lexer": "ipython3",
   "version": "3.9.7"
  }
 },
 "nbformat": 4,
 "nbformat_minor": 4
}
