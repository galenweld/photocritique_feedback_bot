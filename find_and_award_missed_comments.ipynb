{
 "cells": [
  {
   "cell_type": "code",
   "execution_count": 1,
   "metadata": {},
   "outputs": [
    {
     "name": "stdout",
     "output_type": "stream",
     "text": [
      "Loaded 13 users who have opted out from follow-ups.\n",
      "Loaded 13 users who have opted out from reminders.\n"
     ]
    },
    {
     "name": "stderr",
     "output_type": "stream",
     "text": [
      "Version 7.5.0 of praw is outdated. Version 7.7.1 was released Tuesday July 11, 2023.\n"
     ]
    }
   ],
   "source": [
    "# STANDARD LIBRARY IMPORTS\n",
    "import re\n",
    "import csv\n",
    "import os\n",
    "import datetime\n",
    "import subprocess\n",
    "import sys # for args\n",
    "\n",
    "# THIRD PARTY IMPORTS\n",
    "import praw\n",
    "\n",
    "# PROJECT IMPORTS\n",
    "from setup import reddit\n",
    "from settings import *\n",
    "from tools import *\n",
    "from inbox import check_messages\n",
    "from reminders import send_reminders\n",
    "from log_missed_comment import manually_award_comment\n",
    "\n",
    "subreddit = reddit.subreddit(TARGET_SUBREDDIT)"
   ]
  },
  {
   "cell_type": "markdown",
   "metadata": {},
   "source": [
    "# Step 1: Get the last awarded post"
   ]
  },
  {
   "cell_type": "code",
   "execution_count": 2,
   "metadata": {},
   "outputs": [],
   "source": [
    "# get the last awarded post. We don't need to look back past this time.\n",
    "last_award = next( reddit.user.me().comments.new() )"
   ]
  },
  {
   "cell_type": "code",
   "execution_count": 3,
   "metadata": {},
   "outputs": [
    {
     "name": "stdout",
     "output_type": "stream",
     "text": [
      "/r/photocritique/comments/1bpmfu2/my_first_ever_picture_with_a_professional_camera/kwxemtg/\n"
     ]
    }
   ],
   "source": [
    "print( last_award.permalink )"
   ]
  },
  {
   "cell_type": "markdown",
   "metadata": {},
   "source": [
    "# Step 2: Search the most recent 1,000 comments, and record their IDs"
   ]
  },
  {
   "cell_type": "code",
   "execution_count": 4,
   "metadata": {},
   "outputs": [
    {
     "name": "stdout",
     "output_type": "stream",
     "text": [
      "Should we award points based on comment kxwxzu2 by u/Boring_Peanut_4369?\n",
      "Should we award points based on comment kxwxovt by u/Boring_Peanut_4369?\n",
      "Should we award points based on comment kxtytby by u/GazNPhoto?\n",
      "Should we award points based on comment kxtwokx by u/SiMoon_MD?\n",
      "Should we award points based on comment kxsoihd by u/AdventureJuntos?\n",
      "Should we award points based on comment kxrmp1z by u/FaxCelestis?\n",
      "Should we award points based on comment kxqjwvx by u/MyRoadTaken?\n",
      "Should we award points based on comment kxptqk0 by u/MyRoadTaken?\n",
      "Should we award points based on comment kxpnw1f by u/MyRoadTaken?\n",
      "Should we award points based on comment kxpm1kn by u/MyRoadTaken?\n",
      "Should we award points based on comment kxplyge by u/MyRoadTaken?\n",
      "Should we award points based on comment kxplwlw by u/MyRoadTaken?\n",
      "Should we award points based on comment kxp3hio by u/auraria?\n",
      "Should we award points based on comment kxookga by u/lonerockz?\n",
      "Should we award points based on comment kxoo3aa by u/ExpatInFarEast?\n",
      "Should we award points based on comment kxnvuot by u/SiMoon_MD?\n",
      "Should we award points based on comment kxnb13i by u/NoTelephone9417?\n",
      "Should we award points based on comment kxl3oi4 by u/Ashexy-?\n",
      "Should we award points based on comment kxl3m5w by u/Ashexy-?\n",
      "Should we award points based on comment kxjhgd3 by u/jr_photography?\n",
      "Should we award points based on comment kxjgbed by u/jr_photography?\n",
      "Should we award points based on comment kxjfrmm by u/jr_photography?\n",
      "Should we award points based on comment kxil8tq by u/ArgeberazziSostrepi?\n",
      "Should we award points based on comment kxibc7z by u/vyralinfection?\n",
      "Should we award points based on comment kxia8c1 by u/vyralinfection?\n",
      "Should we award points based on comment kxi8j2d by u/Ashexy-?\n",
      "\n",
      "\n",
      "Searched 1000 comments. Found 26 that might need awarding.\n",
      "There is a gap of 92.1 hours between the last comment we searched, and the last award.\n",
      "Hopefully the above number is 0 or small!\n"
     ]
    }
   ],
   "source": [
    "num_processed_comments = 0\n",
    "num_awarded_comments   = 0\n",
    "\n",
    "# we can only go back 1,000 comments :|\n",
    "for awarding_comment in subreddit.comments(limit=None):\n",
    "    num_processed_comments += 1\n",
    "    \n",
    "    if (awarding_comment.author is not None and awarding_comment.author.name != 'AutoModerator') and comment_contains_token( awarding_comment ):\n",
    "        print(f'Should we award points based on comment {awarding_comment.id} by u/{awarding_comment.author.name}?')\n",
    "        num_awarded_comments += 1\n",
    "\n",
    "    if awarding_comment.created_utc <= last_award.created_utc:\n",
    "        # we've gone back far enough\n",
    "        print('Yay! There were less than 1,000 comments since the bot crashed.\\n')\n",
    "        break\n",
    "        \n",
    "print(f'\\n\\nSearched {num_processed_comments} comments. Found {num_awarded_comments} that might need awarding.')\n",
    "        \n",
    "print(f'There is a gap of {( awarding_comment.created_utc - last_award.created_utc ) / 60 / 60:.1f} hours between the last comment we searched, and the last award.')\n",
    "print('Hopefully the above number is 0 or small!')"
   ]
  },
  {
   "cell_type": "markdown",
   "metadata": {},
   "source": [
    "# Step 3: Manually award all the comments above.\n",
    "\n",
    "Reddit will rate limit you at some point, so you'll need to wait a few mins if you have more than ~15 comments to award.\n",
    "\n",
    "To award comments, copy the ID above into the below string, and run the cell. Repeat for all comments listed above. You may want to manually check things like:\n",
    "\n",
    "- don't award to top level comments? \n",
    "\n",
    "Are these things still in `run.py`?"
   ]
  },
  {
   "cell_type": "code",
   "execution_count": 5,
   "metadata": {},
   "outputs": [],
   "source": [
    "from time import sleep"
   ]
  },
  {
   "cell_type": "code",
   "execution_count": 10,
   "metadata": {},
   "outputs": [],
   "source": [
    "missing_awards = [\n",
    "# 'kxwxzu2',\n",
    "# 'kxwxovt',\n",
    "# 'kxtytby',\n",
    "# 'kxtwokx',\n",
    "# 'kxsoihd',\n",
    "# 'kxrmp1z',\n",
    "# 'kxqjwvx',\n",
    "# 'kxptqk0',\n",
    "# 'kxpnw1f',\n",
    "# 'kxpm1kn',\n",
    "    #\n",
    "# 'kxplyge',\n",
    "# 'kxplwlw',\n",
    "# 'kxp3hio',\n",
    "# 'kxookga',\n",
    "# 'kxoo3aa',\n",
    "# 'kxnvuot',\n",
    "# 'kxnb13i',\n",
    "# 'kxl3oi4',\n",
    "# 'kxl3m5w',\n",
    "# 'kxjhgd3',\n",
    "    #\n",
    "'kxjgbed',\n",
    "'kxjfrmm',\n",
    "'kxil8tq',\n",
    "'kxibc7z',\n",
    "'kxia8c1',\n",
    "'kxi8j2d',\n",
    "]"
   ]
  },
  {
   "cell_type": "code",
   "execution_count": 11,
   "metadata": {},
   "outputs": [
    {
     "name": "stdout",
     "output_type": "stream",
     "text": [
      "Manually awarding points based on comment kxjgbed by u/jr_photography.\n",
      "Manually awarding points based on comment kxjfrmm by u/jr_photography.\n",
      "Manually awarding points based on comment kxil8tq by u/ArgeberazziSostrepi.\n",
      "Manually awarding points based on comment kxibc7z by u/vyralinfection.\n",
      "Manually awarding points based on comment kxia8c1 by u/vyralinfection.\n",
      "Manually awarding points based on comment kxi8j2d by u/Ashexy-.\n"
     ]
    }
   ],
   "source": [
    "for award_id in missing_awards:\n",
    "    manually_award_comment(award_id)\n",
    "    sleep(10)"
   ]
  },
  {
   "cell_type": "markdown",
   "metadata": {},
   "source": [
    "# Step 5: Manually look for missed awards that need checking\n",
    "\n",
    "I would do this by starting at /new, scrolling back to post from the below last-checked comment, and then manually opening all the posts after that and searching for `!CritiquePoint`. Do this until you are fairly certain you've gone far enough."
   ]
  },
  {
   "cell_type": "code",
   "execution_count": 15,
   "metadata": {},
   "outputs": [
    {
     "name": "stdout",
     "output_type": "stream",
     "text": [
      "This is the last comment we were able to check:\n",
      "/r/photocritique/comments/xza4r1/feedback_request_on_portrait/irmugrd/\n",
      "\n",
      "Comments older than this may need checking manually.\n"
     ]
    }
   ],
   "source": [
    "print('This is the last comment we were able to check:')\n",
    "print(awarding_comment.permalink)\n",
    "\n",
    "print('\\nComments older than this may need checking manually.')"
   ]
  },
  {
   "cell_type": "code",
   "execution_count": 42,
   "metadata": {},
   "outputs": [
    {
     "name": "stdout",
     "output_type": "stream",
     "text": [
      "Manually awarding points based on comment irah590 by u/Koosen-.\n"
     ]
    }
   ],
   "source": [
    "#  manually_award_comment('irah590')"
   ]
  },
  {
   "cell_type": "code",
   "execution_count": null,
   "metadata": {},
   "outputs": [],
   "source": [
    "# https://old.reddit.com/r/photocritique/comments/xwqlb5/my_thought_was_better_than_the_execution/irah590/"
   ]
  }
 ],
 "metadata": {
  "kernelspec": {
   "display_name": "Python [conda env:pcbot]",
   "language": "python",
   "name": "conda-env-pcbot-py"
  },
  "language_info": {
   "codemirror_mode": {
    "name": "ipython",
    "version": 3
   },
   "file_extension": ".py",
   "mimetype": "text/x-python",
   "name": "python",
   "nbconvert_exporter": "python",
   "pygments_lexer": "ipython3",
   "version": "3.9.7"
  }
 },
 "nbformat": 4,
 "nbformat_minor": 4
}
