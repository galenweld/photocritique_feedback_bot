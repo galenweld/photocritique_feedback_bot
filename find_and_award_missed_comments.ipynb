{
 "cells": [
  {
   "cell_type": "code",
   "execution_count": 1,
   "metadata": {},
   "outputs": [
    {
     "name": "stdout",
     "output_type": "stream",
     "text": [
      "Loaded 22 users who have opted out from follow-ups.\n",
      "Loaded 18 users who have opted out from reminders.\n"
     ]
    },
    {
     "name": "stderr",
     "output_type": "stream",
     "text": [
      "Version 7.5.0 of praw is outdated. Version 7.8.1 was released Friday October 25, 2024.\n"
     ]
    }
   ],
   "source": [
    "# STANDARD LIBRARY IMPORTS\n",
    "import re\n",
    "import csv\n",
    "import os\n",
    "import datetime\n",
    "import subprocess\n",
    "import sys # for args\n",
    "\n",
    "# THIRD PARTY IMPORTS\n",
    "import praw\n",
    "\n",
    "# PROJECT IMPORTS\n",
    "from setup import reddit\n",
    "from settings import *\n",
    "from tools import *\n",
    "from inbox import check_messages\n",
    "from reminders import send_reminders\n",
    "from log_missed_comment import manually_award_comment\n",
    "\n",
    "subreddit = reddit.subreddit(TARGET_SUBREDDIT)"
   ]
  },
  {
   "cell_type": "markdown",
   "metadata": {},
   "source": [
    "# Step 1: Get the last awarded post"
   ]
  },
  {
   "cell_type": "code",
   "execution_count": 2,
   "metadata": {},
   "outputs": [],
   "source": [
    "# get the last awarded post. We don't need to look back past this time.\n",
    "last_award = next( reddit.user.me().comments.new() )"
   ]
  },
  {
   "cell_type": "code",
   "execution_count": 3,
   "metadata": {},
   "outputs": [
    {
     "name": "stdout",
     "output_type": "stream",
     "text": [
      "/r/photocritique/comments/1jlc45q/union_college_in_schenectady_ny_critiques/mk7gxob/\n"
     ]
    }
   ],
   "source": [
    "print( last_award.permalink )"
   ]
  },
  {
   "cell_type": "markdown",
   "metadata": {},
   "source": [
    "# Step 2: Search the most recent 1,000 comments, and record their IDs"
   ]
  },
  {
   "cell_type": "code",
   "execution_count": 4,
   "metadata": {},
   "outputs": [
    {
     "name": "stdout",
     "output_type": "stream",
     "text": [
      "Should we award points based on comment mldrp39 by u/linklocked?\n",
      "Should we award points based on comment mlcmnpz by u/baska_rhymes?\n",
      "Should we award points based on comment mlceaam by u/baska_rhymes?\n",
      "Should we award points based on comment mlbp9dc by u/Far-FarmGoose?\n",
      "Should we award points based on comment mlbj799 by u/No_Split5962?\n",
      "Should we award points based on comment mlb1m0k by u/itsntcharlie?\n",
      "Should we award points based on comment mlayjwt by u/RedBoxtops?\n",
      "Should we award points based on comment mlashlb by u/itsntcharlie?\n",
      "Should we award points based on comment mlarlrx by u/itsntcharlie?\n",
      "Should we award points based on comment mlar58s by u/itsntcharlie?\n",
      "Should we award points based on comment mlaqi9t by u/itsntcharlie?\n",
      "Should we award points based on comment mlao9zm by u/linklocked?\n",
      "Should we award points based on comment mla9tg6 by u/MTXD_FTW?\n",
      "Should we award points based on comment mla9hh4 by u/MTXD_FTW?\n",
      "Should we award points based on comment mla979q by u/MTXD_FTW?\n",
      "Should we award points based on comment ml7gebg by u/spidersinthesoup?\n",
      "Should we award points based on comment ml441j9 by u/linklocked?\n",
      "Should we award points based on comment ml43hth by u/linklocked?\n",
      "Should we award points based on comment ml41h6s by u/MTXD_FTW?\n",
      "Should we award points based on comment ml415vy by u/MTXD_FTW?\n",
      "Should we award points based on comment ml40qwt by u/MTXD_FTW?\n",
      "Should we award points based on comment ml40i5b by u/MTXD_FTW?\n",
      "Should we award points based on comment ml3zt8j by u/MTXD_FTW?\n",
      "Should we award points based on comment ml3zb5d by u/MTXD_FTW?\n",
      "Should we award points based on comment ml3kbzl by u/Yapond0?\n",
      "Should we award points based on comment ml2984q by u/spidersinthesoup?\n",
      "Should we award points based on comment ml2517r by u/MTXD_FTW?\n",
      "Should we award points based on comment ml0bbvf by u/e4109c?\n",
      "Should we award points based on comment ml06ywd by u/e4109c?\n",
      "Should we award points based on comment mkza9y8 by u/dunnonauker?\n",
      "Should we award points based on comment mkz6f1q by u/DragonFibre?\n",
      "Should we award points based on comment mkz3dtd by u/No_Split5962?\n",
      "Should we award points based on comment mkyppnp by u/Caeslius?\n",
      "Should we award points based on comment mky42q9 by u/linklocked?\n",
      "Should we award points based on comment mkxhk9g by u/the_amazing_spork?\n",
      "Should we award points based on comment mkx78ty by u/Several_Cow3559?\n",
      "Should we award points based on comment mkwpvkw by u/PatrickHardcastle?\n",
      "Should we award points based on comment mkwnuxx by u/the_amazing_spork?\n",
      "Should we award points based on comment mkssibl by u/Able-Object-7245?\n",
      "Should we award points based on comment mkrv2zw by u/Exponent_0?\n",
      "Should we award points based on comment mkrv1lv by u/Exponent_0?\n",
      "Should we award points based on comment mkruzb6 by u/Exponent_0?\n",
      "Should we award points based on comment mkr9cvh by u/CaickPhotography?\n",
      "Should we award points based on comment mkqlfg3 by u/TjStax?\n",
      "Should we award points based on comment mkpauim by u/linklocked?\n",
      "\n",
      "\n",
      "Searched 1000 comments. Found 45 that might need awarding.\n",
      "There is a gap of 71.4 hours between the last comment we searched, and the last award.\n",
      "Hopefully the above number is 0 or small!\n"
     ]
    }
   ],
   "source": [
    "num_processed_comments = 0\n",
    "num_awarded_comments   = 0\n",
    "\n",
    "# we can only go back 1,000 comments :|\n",
    "for awarding_comment in subreddit.comments(limit=None):\n",
    "    num_processed_comments += 1\n",
    "    \n",
    "    if (awarding_comment.author is not None and awarding_comment.author.name != 'AutoModerator') and comment_contains_token( awarding_comment ):\n",
    "        print(f'Should we award points based on comment {awarding_comment.id} by u/{awarding_comment.author.name}?')\n",
    "        num_awarded_comments += 1\n",
    "\n",
    "    if awarding_comment.created_utc <= last_award.created_utc:\n",
    "        # we've gone back far enough\n",
    "        print('Yay! There were less than 1,000 comments since the bot crashed.\\n')\n",
    "        break\n",
    "        \n",
    "print(f'\\n\\nSearched {num_processed_comments} comments. Found {num_awarded_comments} that might need awarding.')\n",
    "        \n",
    "print(f'There is a gap of {( awarding_comment.created_utc - last_award.created_utc ) / 60 / 60:.1f} hours between the last comment we searched, and the last award.')\n",
    "print('Hopefully the above number is 0 or small!')"
   ]
  },
  {
   "cell_type": "markdown",
   "metadata": {},
   "source": [
    "# Step 3: Manually award all the comments above.\n",
    "\n",
    "Reddit will rate limit you at some point, so you'll need to wait a few mins if you have more than ~15 comments to award.\n",
    "\n",
    "To award comments, copy the ID above into the below string, and run the cell. Repeat for all comments listed above. You may want to manually check things like:\n",
    "\n",
    "- don't award to top level comments? \n",
    "\n",
    "Are these things still in `run.py`?"
   ]
  },
  {
   "cell_type": "code",
   "execution_count": 5,
   "metadata": {},
   "outputs": [],
   "source": [
    "from time import sleep"
   ]
  },
  {
   "cell_type": "code",
   "execution_count": 14,
   "metadata": {},
   "outputs": [],
   "source": [
    "missing_awards = [\n",
    "'mkocpjz',\n",
    "'mkoctyh',\n",
    "'mkh2nov',\n",
    "'mkh2kgr',\n",
    "'mki9f91',\n",
    "'mkd9kme',\n",
    "'mkdfn4z',\n",
    "'mkyppnp',\n",
    "'mkbs1p6',\n",
    "'mkg84sa',\n",
    "'mk7ymdy',\n",
    "'mkagwbf',\n",
    "'mkao0vo',\n",
    "]"
   ]
  },
  {
   "cell_type": "code",
   "execution_count": 15,
   "metadata": {},
   "outputs": [
    {
     "name": "stdout",
     "output_type": "stream",
     "text": [
      "Manually awarding points based on comment mkocpjz by u/CaickPhotography.\n",
      "Manually awarding points based on comment mkoctyh by u/CaickPhotography.\n",
      "Manually awarding points based on comment mkh2nov by u/fiyoOnThebayou.\n",
      "Manually awarding points based on comment mkh2kgr by u/fiyoOnThebayou.\n",
      "Manually awarding points based on comment mki9f91 by u/fiyoOnThebayou.\n",
      "Manually awarding points based on comment mkd9kme by u/Either_Surround_7658.\n",
      "Manually awarding points based on comment mkdfn4z by u/Either_Surround_7658.\n",
      "Manually awarding points based on comment mkyppnp by u/Caeslius.\n",
      "Manually awarding points based on comment mkbs1p6 by u/Caeslius.\n",
      "Manually awarding points based on comment mkg84sa by u/Caeslius.\n",
      "Manually awarding points based on comment mk7ymdy by u/Particular_View4059.\n",
      "Manually awarding points based on comment mkagwbf by u/Particular_View4059.\n",
      "Manually awarding points based on comment mkao0vo by u/Particular_View4059.\n"
     ]
    }
   ],
   "source": [
    "for award_id in missing_awards:\n",
    "    manually_award_comment(award_id)\n",
    "    sleep(60)"
   ]
  },
  {
   "cell_type": "markdown",
   "metadata": {},
   "source": [
    "# Step 5: Manually look for missed awards that need checking\n",
    "\n",
    "I would do this by starting at /new, scrolling back to post from the below last-checked comment, and then manually opening all the posts after that and searching for `!CritiquePoint`. Do this until you are fairly certain you've gone far enough."
   ]
  },
  {
   "cell_type": "code",
   "execution_count": 15,
   "metadata": {},
   "outputs": [
    {
     "name": "stdout",
     "output_type": "stream",
     "text": [
      "This is the last comment we were able to check:\n",
      "/r/photocritique/comments/xza4r1/feedback_request_on_portrait/irmugrd/\n",
      "\n",
      "Comments older than this may need checking manually.\n"
     ]
    }
   ],
   "source": [
    "print('This is the last comment we were able to check:')\n",
    "print(awarding_comment.permalink)\n",
    "\n",
    "print('\\nComments older than this may need checking manually.')"
   ]
  },
  {
   "cell_type": "code",
   "execution_count": 42,
   "metadata": {},
   "outputs": [
    {
     "name": "stdout",
     "output_type": "stream",
     "text": [
      "Manually awarding points based on comment irah590 by u/Koosen-.\n"
     ]
    }
   ],
   "source": [
    "#  manually_award_comment('irah590')"
   ]
  },
  {
   "cell_type": "code",
   "execution_count": null,
   "metadata": {},
   "outputs": [],
   "source": [
    "# https://old.reddit.com/r/photocritique/comments/xwqlb5/my_thought_was_better_than_the_execution/irah590/"
   ]
  }
 ],
 "metadata": {
  "kernelspec": {
   "display_name": "Python [conda env:pcbot]",
   "language": "python",
   "name": "conda-env-pcbot-py"
  },
  "language_info": {
   "codemirror_mode": {
    "name": "ipython",
    "version": 3
   },
   "file_extension": ".py",
   "mimetype": "text/x-python",
   "name": "python",
   "nbconvert_exporter": "python",
   "pygments_lexer": "ipython3",
   "version": "3.9.7"
  }
 },
 "nbformat": 4,
 "nbformat_minor": 4
}
