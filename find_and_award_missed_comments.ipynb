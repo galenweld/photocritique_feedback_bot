{
 "cells": [
  {
   "cell_type": "code",
   "execution_count": 1,
   "metadata": {},
   "outputs": [
    {
     "name": "stdout",
     "output_type": "stream",
     "text": [
      "The history saving thread hit an unexpected error (DatabaseError('database disk image is malformed')).History will not be written to the database.\n",
      "Loaded 39 users who have opted out from follow-ups.\n",
      "Loaded 29 users who have opted out from reminders.\n"
     ]
    },
    {
     "name": "stderr",
     "output_type": "stream",
     "text": [
      "Version 7.5.0 of praw is outdated. Version 7.8.1 was released Friday October 25, 2024.\n"
     ]
    }
   ],
   "source": [
    "# STANDARD LIBRARY IMPORTS\n",
    "import re\n",
    "import csv\n",
    "import os\n",
    "import datetime\n",
    "import subprocess\n",
    "import sys # for args\n",
    "\n",
    "# THIRD PARTY IMPORTS\n",
    "import praw\n",
    "\n",
    "# PROJECT IMPORTS\n",
    "from setup import reddit\n",
    "from settings import *\n",
    "from tools import *\n",
    "from inbox import check_messages\n",
    "from reminders import send_reminders\n",
    "from log_missed_comment import manually_award_comment\n",
    "\n",
    "subreddit = reddit.subreddit(TARGET_SUBREDDIT)"
   ]
  },
  {
   "cell_type": "markdown",
   "metadata": {},
   "source": [
    "# Step 1: Get the last awarded post"
   ]
  },
  {
   "cell_type": "code",
   "execution_count": 2,
   "metadata": {},
   "outputs": [],
   "source": [
    "# get the last awarded post. We don't need to look back past this time.\n",
    "last_award = next( reddit.user.me().comments.new() )"
   ]
  },
  {
   "cell_type": "code",
   "execution_count": 3,
   "metadata": {},
   "outputs": [
    {
     "name": "stdout",
     "output_type": "stream",
     "text": [
      "/r/photocritique/comments/1o3g2w2/what_do_you_see/njb3a88/\n"
     ]
    }
   ],
   "source": [
    "print( last_award.permalink )"
   ]
  },
  {
   "cell_type": "markdown",
   "metadata": {},
   "source": [
    "# Step 2: Search the most recent 1,000 comments, and record their IDs"
   ]
  },
  {
   "cell_type": "code",
   "execution_count": 4,
   "metadata": {},
   "outputs": [
    {
     "name": "stdout",
     "output_type": "stream",
     "text": [
      "Should we award points based on comment njp9fgo by u/tilltheendof-time?\n",
      "Should we award points based on comment njo5jzo by u/EmployNo1234?\n",
      "Should we award points based on comment njnu3xv by u/EmployNo1234?\n",
      "Should we award points based on comment njlhnl0 by u/There_And_Back1?\n",
      "Should we award points based on comment njlhfux by u/There_And_Back1?\n",
      "Should we award points based on comment njlat3d by u/There_And_Back1?\n",
      "Should we award points based on comment njl2zrj by u/There_And_Back1?\n",
      "Should we award points based on comment njl10dk by u/There_And_Back1?\n",
      "Should we award points based on comment njjffqm by u/tuomas_samuli_photos?\n",
      "Should we award points based on comment nji1nng by u/Present-Vegetable186?\n",
      "Should we award points based on comment njh6wj5 by u/Present-Vegetable186?\n",
      "Should we award points based on comment njgcqtj by u/Present-Vegetable186?\n",
      "Should we award points based on comment njg2i3d by u/tengopelograsoso?\n",
      "Should we award points based on comment njg2gy2 by u/tengopelograsoso?\n",
      "Should we award points based on comment njfajh4 by u/scoot_shoots?\n",
      "Should we award points based on comment njf8ssf by u/scoot_shoots?\n",
      "Should we award points based on comment njexvb7 by u/scoot_shoots?\n",
      "Should we award points based on comment njduq13 by u/DimestoreAnselAdams?\n",
      "Should we award points based on comment njdd81k by u/darwork?\n",
      "Should we award points based on comment njbixqz by u/SR45Rebel?\n",
      "Should we award points based on comment njbgvo2 by u/SR45Rebel?\n",
      "\n",
      "\n",
      "Searched 1000 comments. Found 21 that might need awarding.\n",
      "There is a gap of 0.4 hours between the last comment we searched, and the last award.\n",
      "Hopefully the above number is 0 or small!\n"
     ]
    }
   ],
   "source": [
    "num_processed_comments = 0\n",
    "num_awarded_comments   = 0\n",
    "\n",
    "# we can only go back 1,000 comments :|\n",
    "for awarding_comment in subreddit.comments(limit=None):\n",
    "    num_processed_comments += 1\n",
    "    \n",
    "    if (awarding_comment.author is not None and awarding_comment.author.name != 'AutoModerator') and comment_contains_token( awarding_comment ):\n",
    "        print(f'Should we award points based on comment {awarding_comment.id} by u/{awarding_comment.author.name}?')\n",
    "        num_awarded_comments += 1\n",
    "\n",
    "    if awarding_comment.created_utc <= last_award.created_utc:\n",
    "        # we've gone back far enough\n",
    "        print('Yay! There were less than 1,000 comments since the bot crashed.\\n')\n",
    "        break\n",
    "        \n",
    "print(f'\\n\\nSearched {num_processed_comments} comments. Found {num_awarded_comments} that might need awarding.')\n",
    "        \n",
    "print(f'There is a gap of {( awarding_comment.created_utc - last_award.created_utc ) / 60 / 60:.1f} hours between the last comment we searched, and the last award.')\n",
    "print('Hopefully the above number is 0 or small!')"
   ]
  },
  {
   "cell_type": "markdown",
   "metadata": {},
   "source": [
    "# Step 3: Manually award all the comments above.\n",
    "\n",
    "Reddit will rate limit you at some point, so you'll need to wait a few mins if you have more than ~15 comments to award.\n",
    "\n",
    "To award comments, copy the ID above into the below string, and run the cell. Repeat for all comments listed above. You may want to manually check things like:\n",
    "\n",
    "- don't award to top level comments? \n",
    "\n",
    "Are these things still in `run.py`?"
   ]
  },
  {
   "cell_type": "code",
   "execution_count": 7,
   "metadata": {},
   "outputs": [],
   "source": [
    "from time import sleep"
   ]
  },
  {
   "cell_type": "code",
   "execution_count": 8,
   "metadata": {},
   "outputs": [],
   "source": [
    "# all as of 18:13 Tues\n",
    "missing_awards = [\n",
    "'njp9fgo',\n",
    "'njo5jzo',\n",
    "'njnu3xv',\n",
    "'njlhnl0',\n",
    "'njlhfux',\n",
    "'njlat3d',\n",
    "'njl2zrj',\n",
    "'njl10dk',\n",
    "'njjffqm',\n",
    "'nji1nng',\n",
    "'njh6wj5',\n",
    "'njgcqtj',\n",
    "'njg2i3d',\n",
    "'njg2gy2',\n",
    "'njfajh4',\n",
    "'njf8ssf',\n",
    "'njexvb7',\n",
    "'njduq13',\n",
    "'njdd81k',\n",
    "'njbixqz',\n",
    "'njbgvo2',\n",
    "]"
   ]
  },
  {
   "cell_type": "code",
   "execution_count": 9,
   "metadata": {},
   "outputs": [
    {
     "name": "stdout",
     "output_type": "stream",
     "text": [
      "Manually awarding points based on comment njp9fgo by u/tilltheendof-time.\n",
      "Manually awarding points based on comment njo5jzo by u/EmployNo1234.\n",
      "Manually awarding points based on comment njnu3xv by u/EmployNo1234.\n",
      "Manually awarding points based on comment njlhnl0 by u/There_And_Back1.\n",
      "Manually awarding points based on comment njlhfux by u/There_And_Back1.\n",
      "Manually awarding points based on comment njlat3d by u/There_And_Back1.\n",
      "Manually awarding points based on comment njl2zrj by u/There_And_Back1.\n",
      "Manually awarding points based on comment njl10dk by u/There_And_Back1.\n",
      "Manually awarding points based on comment njjffqm by u/tuomas_samuli_photos.\n",
      "Manually awarding points based on comment nji1nng by u/Present-Vegetable186.\n",
      "Manually awarding points based on comment njh6wj5 by u/Present-Vegetable186.\n",
      "Manually awarding points based on comment njgcqtj by u/Present-Vegetable186.\n",
      "Manually awarding points based on comment njg2i3d by u/tengopelograsoso.\n",
      "Manually awarding points based on comment njg2gy2 by u/tengopelograsoso.\n",
      "Manually awarding points based on comment njfajh4 by u/scoot_shoots.\n",
      "Manually awarding points based on comment njf8ssf by u/scoot_shoots.\n",
      "Manually awarding points based on comment njexvb7 by u/scoot_shoots.\n",
      "Manually awarding points based on comment njduq13 by u/DimestoreAnselAdams.\n",
      "Manually awarding points based on comment njdd81k by u/darwork.\n",
      "Manually awarding points based on comment njbixqz by u/SR45Rebel.\n",
      "Manually awarding points based on comment njbgvo2 by u/SR45Rebel.\n"
     ]
    }
   ],
   "source": [
    "for award_id in missing_awards:\n",
    "    manually_award_comment(award_id)\n",
    "    sleep(60)"
   ]
  },
  {
   "cell_type": "markdown",
   "metadata": {},
   "source": [
    "# Step 5: Manually look for missed awards that need checking\n",
    "\n",
    "I would do this by starting at /new, scrolling back to post from the below last-checked comment, and then manually opening all the posts after that and searching for `!CritiquePoint`. Do this until you are fairly certain you've gone far enough."
   ]
  },
  {
   "cell_type": "code",
   "execution_count": 15,
   "metadata": {},
   "outputs": [
    {
     "name": "stdout",
     "output_type": "stream",
     "text": [
      "This is the last comment we were able to check:\n",
      "/r/photocritique/comments/xza4r1/feedback_request_on_portrait/irmugrd/\n",
      "\n",
      "Comments older than this may need checking manually.\n"
     ]
    }
   ],
   "source": [
    "print('This is the last comment we were able to check:')\n",
    "print(awarding_comment.permalink)\n",
    "\n",
    "print('\\nComments older than this may need checking manually.')"
   ]
  },
  {
   "cell_type": "code",
   "execution_count": 42,
   "metadata": {},
   "outputs": [
    {
     "name": "stdout",
     "output_type": "stream",
     "text": [
      "Manually awarding points based on comment irah590 by u/Koosen-.\n"
     ]
    }
   ],
   "source": [
    "#  manually_award_comment('irah590')"
   ]
  },
  {
   "cell_type": "code",
   "execution_count": null,
   "metadata": {},
   "outputs": [],
   "source": [
    "# https://old.reddit.com/r/photocritique/comments/xwqlb5/my_thought_was_better_than_the_execution/irah590/"
   ]
  }
 ],
 "metadata": {
  "kernelspec": {
   "display_name": "Python [conda env:pcbot]",
   "language": "python",
   "name": "conda-env-pcbot-py"
  },
  "language_info": {
   "codemirror_mode": {
    "name": "ipython",
    "version": 3
   },
   "file_extension": ".py",
   "mimetype": "text/x-python",
   "name": "python",
   "nbconvert_exporter": "python",
   "pygments_lexer": "ipython3",
   "version": "3.9.7"
  }
 },
 "nbformat": 4,
 "nbformat_minor": 4
}
